{
 "cells": [
  {
   "cell_type": "markdown",
   "metadata": {},
   "source": [
    "## Chapter 1: Exploratory Data Analysis: Estimates of Variability - Page 40\n",
    "    Contains Functions:\n",
    "        Variance\n",
    "        Standard Deviation\n",
    "        Mean Absolute Deviation (MAD)\n",
    "        MAD from the median\n",
    "        Range\n",
    "        Percentile\n",
    "        Interquantile Range"
   ]
  },
  {
   "cell_type": "code",
   "execution_count": 9,
   "metadata": {},
   "outputs": [],
   "source": [
    "# import modules\n",
    "import math\n",
    "import random"
   ]
  },
  {
   "cell_type": "code",
   "execution_count": 10,
   "metadata": {},
   "outputs": [],
   "source": [
    "# define helper function\n",
    "def __get_median(num_list):\n",
    "    num_range = len(num_list)\n",
    "    if (num_range % 2) == 0:\n",
    "        mid = int(num_range/2)\n",
    "        mid_1 = mid - 1\n",
    "        mid_2 = mid\n",
    "        median = (num_list[mid_1]+num_list[mid_2])/2\n",
    "    else:\n",
    "        mid = int(num_range/2)\n",
    "        median = num_list[mid]\n",
    "\n",
    "    return median"
   ]
  },
  {
   "cell_type": "markdown",
   "metadata": {},
   "source": [
    "### Variance\n",
    "    - In probability theory and statistics, variance is the expectation of the squared deviation of a random variable from its mean. Informally, it measures how far a set of (random) numbers are spread out from their average value. "
   ]
  },
  {
   "cell_type": "code",
   "execution_count": 11,
   "metadata": {},
   "outputs": [
    {
     "name": "stdout",
     "output_type": "stream",
     "text": [
      "Variance\n",
      "[10, 3, 3, 2, 6, 3, 5, 6, 10, 4]\n"
     ]
    },
    {
     "data": {
      "text/plain": [
       "6.359999999999999"
      ]
     },
     "execution_count": 11,
     "metadata": {},
     "output_type": "execute_result"
    }
   ],
   "source": [
    "def variance(num_range=10):\n",
    "    rand_int_list =[random.randint(1,num_range) for i in range(num_range)]\n",
    "    print(rand_int_list)\n",
    "\n",
    "    #compute mean\n",
    "    sum = 0\n",
    "    for rand_int in rand_int_list:\n",
    "        sum+=rand_int\n",
    "    mean = sum/num_range\n",
    "\n",
    "    #compute variance\n",
    "    sum = 0\n",
    "    for rand_int in rand_int_list:\n",
    "        sum+=(rand_int - mean)**2\n",
    "    variance = sum/num_range-1\n",
    "\n",
    "    return variance\n",
    "\n",
    "print('Variance')\n",
    "variance()"
   ]
  },
  {
   "cell_type": "markdown",
   "metadata": {},
   "source": [
    "### Mean Absolute Deviation\n",
    "    - The average absolute deviation about any certain point of a data set is the average of the absolute deviations or the positive difference of the given data and that certain value"
   ]
  },
  {
   "cell_type": "code",
   "execution_count": 12,
   "metadata": {},
   "outputs": [
    {
     "name": "stdout",
     "output_type": "stream",
     "text": [
      "Mean absolute deviation\n",
      "[5, 7, 6, 9, 9, 9, 4, 5, 2, 3]\n"
     ]
    },
    {
     "data": {
      "text/plain": [
       "-1.0000000000000004"
      ]
     },
     "execution_count": 12,
     "metadata": {},
     "output_type": "execute_result"
    }
   ],
   "source": [
    "def mean_absolute_deviation(num_range=10):\n",
    "    rand_int_list =[random.randint(1,num_range) for i in range(num_range)]\n",
    "    print(rand_int_list)\n",
    "\n",
    "    #compute mean\n",
    "    sum = 0\n",
    "    for rand_int in rand_int_list:\n",
    "        sum+=rand_int\n",
    "    mean = sum/num_range\n",
    "\n",
    "    #compute mean absolute deviation\n",
    "    sum = 0\n",
    "    for rand_int in rand_int_list:\n",
    "        sum+=(rand_int - mean)\n",
    "    mad = sum/num_range-1\n",
    "\n",
    "    return mad\n",
    "print('Mean absolute deviation')\n",
    "mean_absolute_deviation()"
   ]
  },
  {
   "cell_type": "markdown",
   "metadata": {},
   "source": [
    "### Standard Deviation\n",
    "    - In statistics, the standard deviation is a measure of the amount of variation or dispersion of a set of values. A low standard deviation indicates that the values tend to be close to the mean of the set, while a high standard deviation indicates that the values are spread out over a wider range"
   ]
  },
  {
   "cell_type": "code",
   "execution_count": 13,
   "metadata": {},
   "outputs": [
    {
     "name": "stdout",
     "output_type": "stream",
     "text": [
      "Standard deviation\n",
      "[7, 6, 2, 2, 9, 7, 6, 9, 1, 5]\n"
     ]
    },
    {
     "data": {
      "text/plain": [
       "2.537715508089904"
      ]
     },
     "execution_count": 13,
     "metadata": {},
     "output_type": "execute_result"
    }
   ],
   "source": [
    "def standard_deviation(num_range=10):\n",
    "    rand_int_list =[random.randint(1,num_range) for i in range(num_range)]\n",
    "    print(rand_int_list)\n",
    "\n",
    "    #compute mean\n",
    "    sum = 0\n",
    "    for rand_int in rand_int_list:\n",
    "        sum+=rand_int\n",
    "    mean = sum/num_range\n",
    "\n",
    "    #compute variance\n",
    "    sum = 0\n",
    "    for rand_int in rand_int_list:\n",
    "        sum+=(rand_int - mean)**2   #square every value\n",
    "    variance = sum/num_range-1\n",
    "\n",
    "    standard_deviation = math.sqrt(variance)    #standard deviation is just the square root of variance\n",
    "\n",
    "    return standard_deviation\n",
    "\n",
    "print('Standard deviation')\n",
    "standard_deviation()"
   ]
  },
  {
   "cell_type": "markdown",
   "metadata": {},
   "source": [
    "### Median Absolute Deviation\n",
    "    -In statistics, the median absolute deviation (MAD) is a robust measure of the variability of a univariate sample of quantitative data. It can also refer to the population parameter that is estimated by the MAD calculated from a sample."
   ]
  },
  {
   "cell_type": "code",
   "execution_count": 20,
   "metadata": {},
   "outputs": [
    {
     "name": "stdout",
     "output_type": "stream",
     "text": [
      "Median Absolute Deviation\n",
      "[-31.5, 32.5, 19.5, 8.5, 32.5, 2.5, 15.5, -12.5, 13.5, -28.5, 20.5, -21.5, 5.5, 19.5, -29.5, 6.5, -38.5, -52.5, 13.5, -21.5, -61.5, -33.5, -66.5, 9.5, -51.5, -44.5, -52.5, -42.5, -20.5, -31.5, -29.5, -48.5, 30.5, -36.5, -24.5, -55.5, -40.5, 3.5, -45.5, -64.5, -7.5, -59.5, -51.5, -23.5, 20.5, -36.5, 11.5, -63.5, -28.5, 32.5, -32.5, -43.5, -36.5, 19.5, -40.5, -62.5, -31.5, -40.5, -55.5, 30.5, -60.5, -30.5, -13.5, -50.5, -18.5, -61.5, -48.5, -40.5, -50.5, -57.5, -55.5, -44.5, -26.5, -61.5, -5.5, -28.5, 32.5, -53.5, 25.5, -44.5, -45.5, -11.5, -13.5, 17.5, 20.5, -20.5, -53.5, -46.5, -1.5, -65.5, -43.5, 5.5, -0.5, -28.5, -8.5, 18.5, -17.5, -55.5, 11.5, -5.5]\n"
     ]
    },
    {
     "data": {
      "text/plain": [
       "0.0"
      ]
     },
     "execution_count": 20,
     "metadata": {},
     "output_type": "execute_result"
    }
   ],
   "source": [
    "def median_absolute_deviation(num_range=100):\n",
    "    rand_int_list =[random.randint(1,num_range) for i in range(num_range)]\n",
    "    #print(rand_int_list)\n",
    "\n",
    "    #compute median\n",
    "    median = __get_median(rand_int_list)\n",
    "    n_list = []\n",
    "    for rand_int in rand_int_list:\n",
    "        n_list.append(rand_int - median)\n",
    "    print(n_list)\n",
    "    median_abs_deviation = __get_median(n_list)\n",
    "    return median_abs_deviation\n",
    "\n",
    "print('Median Absolute Deviation')\n",
    "median_absolute_deviation()"
   ]
  },
  {
   "cell_type": "markdown",
   "metadata": {},
   "source": [
    "### Interquatile Range (IQR)\n",
    "    -In descriptive statistics, the interquartile range, also called the midspread or middle 50%, or technically H-spread, is a measure of statistical dispersion, being equal to the difference between 75th and 25th percentiles, or between upper and lower quartiles"
   ]
  },
  {
   "cell_type": "code",
   "execution_count": 22,
   "metadata": {},
   "outputs": [
    {
     "name": "stdout",
     "output_type": "stream",
     "text": [
      "IQR\n",
      "[1, 8, 8, 5, 9, 10, 2, 9, 10, 3]\n"
     ]
    },
    {
     "data": {
      "text/plain": [
       "6"
      ]
     },
     "execution_count": 22,
     "metadata": {},
     "output_type": "execute_result"
    }
   ],
   "source": [
    "def interquantile_range(num_range=10):\n",
    "    rand_int_list =[random.randint(1,num_range) for i in range(num_range)]\n",
    "    print(rand_int_list)\n",
    "\n",
    "    rand_int_list = sorted(rand_int_list)   #sort data \n",
    "    mid_point = int(len(rand_int_list)/2)\n",
    "    if (len(rand_int_list)%2) != 0:\n",
    "        q1 = rand_int_list[0:mid_point]\n",
    "        q2 = rand_int_list[mid_point+1:len(rand_int_list)]\n",
    "    else:\n",
    "        q1 = rand_int_list[0:mid_point]\n",
    "        q2 = rand_int_list[mid_point:len(rand_int_list)]\n",
    "\n",
    "    median_q1 = __get_median(q1)\n",
    "    median_q2 = __get_median(q2)\n",
    "\n",
    "    iqr = median_q2 - median_q1\n",
    "\n",
    "    return iqr\n",
    "\n",
    "print('IQR')\n",
    "interquantile_range()"
   ]
  },
  {
   "cell_type": "markdown",
   "metadata": {},
   "source": [
    "### Percentile\n",
    "    -A percentile is a measure used in statistics indicating the value below which a given percentage of observations in a group of observations falls. For example, the 20th percentile is the value below which 20% of the observations may be found"
   ]
  },
  {
   "cell_type": "code",
   "execution_count": 25,
   "metadata": {},
   "outputs": [
    {
     "name": "stdout",
     "output_type": "stream",
     "text": [
      "Percentile\n",
      "[1, 4, 9, 9, 4, 9, 6, 8, 9, 8]\n"
     ]
    },
    {
     "data": {
      "text/plain": [
       "0.0002"
      ]
     },
     "execution_count": 25,
     "metadata": {},
     "output_type": "execute_result"
    }
   ],
   "source": [
    "def percentile(num_range=10,P=0.2):\n",
    "    rand_int_list =[random.randint(1,num_range) for i in range(num_range)]\n",
    "    print(rand_int_list)\n",
    "\n",
    "    rand_int_list = sorted(rand_int_list)   #sort data\n",
    "\n",
    "    ord_rank = (P/100)/len(rand_int_list)\n",
    "\n",
    "    return ord_rank\n",
    "\n",
    "print('Percentile')\n",
    "percentile()"
   ]
  }
 ],
 "metadata": {
  "kernelspec": {
   "display_name": "Python 3",
   "language": "python",
   "name": "python3"
  },
  "language_info": {
   "codemirror_mode": {
    "name": "ipython",
    "version": 3
   },
   "file_extension": ".py",
   "mimetype": "text/x-python",
   "name": "python",
   "nbconvert_exporter": "python",
   "pygments_lexer": "ipython3",
   "version": "3.7.3"
  }
 },
 "nbformat": 4,
 "nbformat_minor": 2
}
