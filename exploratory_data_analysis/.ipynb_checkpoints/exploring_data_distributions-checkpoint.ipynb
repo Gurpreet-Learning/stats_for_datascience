{
 "cells": [
  {
   "cell_type": "markdown",
   "metadata": {},
   "source": [
    "## Chapter 1: Exploratory Data Analysis: Exploring Data Distributions - Page 49\n",
    "    Contains Functions:\n",
    "        Boxplot\n",
    "        Histogram\n",
    "        Density Plot\n",
    "        Frequency Table"
   ]
  },
  {
   "cell_type": "code",
   "execution_count": 1,
   "metadata": {},
   "outputs": [],
   "source": [
    "# import modules\n",
    "import matplotlib.pyplot as plt\n",
    "import seaborn as sns\n",
    "import pandas as pd\n",
    "import numpy as np\n",
    "import random"
   ]
  },
  {
   "cell_type": "markdown",
   "metadata": {},
   "source": [
    "### Boxplot"
   ]
  },
  {
   "cell_type": "code",
   "execution_count": 3,
   "metadata": {},
   "outputs": [
    {
     "data": {
      "image/png": "[encoded data removed]",
      "text/plain": [
       "<Figure size 432x288 with 1 Axes>"
      ]
     },
     "metadata": {
      "needs_background": "light"
     },
     "output_type": "display_data"
    }
   ],
   "source": [
    " def boxplot(num_range=10):\n",
    "    #Will create a boxplot using matplotlib\n",
    "    rand_int_list =[random.randint(1,num_range) for i in range(num_range)]  # create random variable\n",
    "    df = pd.DataFrame(np.array(rand_int_list),columns=['vals'])\n",
    "    plt.boxplot(df[\"vals\"])\n",
    "    plt.show()\n",
    "    \n",
    "boxplot()"
   ]
  },
  {
   "cell_type": "markdown",
   "metadata": {},
   "source": [
    "### Histogram"
   ]
  },
  {
   "cell_type": "code",
   "execution_count": 6,
   "metadata": {},
   "outputs": [
    {
     "name": "stderr",
     "output_type": "stream",
     "text": [
      "/Users/jonvero/anaconda3/lib/python3.7/site-packages/ipykernel_launcher.py:4: MatplotlibDeprecationWarning: \n",
      "The 'normed' kwarg was deprecated in Matplotlib 2.1 and will be removed in 3.1. Use 'density' instead.\n",
      "  after removing the cwd from sys.path.\n"
     ]
    },
    {
     "data": {
      "image/png": "[encoded data removed]",
      "text/plain": [
       "<Figure size 432x288 with 1 Axes>"
      ]
     },
     "metadata": {
      "needs_background": "light"
     },
     "output_type": "display_data"
    }
   ],
   "source": [
    "def histogram(num_range=10,n_bins=3):\n",
    "    #Will create a histogram using matplotlib\n",
    "    rand_int_list = np.array([random.randint(1,num_range) for i in range(num_range)]) #create random variables\n",
    "    plt.hist(rand_int_list, normed=True, bins=n_bins)\n",
    "    plt.show()\n",
    "    \n",
    "histogram()"
   ]
  },
  {
   "cell_type": "markdown",
   "metadata": {},
   "source": [
    "### Density Plot"
   ]
  },
  {
   "cell_type": "code",
   "execution_count": 7,
   "metadata": {},
   "outputs": [
    {
     "data": {
      "image/png": "[encoded data removed]",
      "text/plain": [
       "<Figure size 432x288 with 1 Axes>"
      ]
     },
     "metadata": {},
     "output_type": "display_data"
    }
   ],
   "source": [
    "def density_plot(num_range=10):\n",
    "    #create density plot using seaborn\n",
    "    rand_int_list = np.array([random.randint(1,num_range) for i in range(num_range)]) #create random variables\n",
    "    sns.set_style('whitegrid')\n",
    "    sns.kdeplot(np.array(rand_int_list))\n",
    "    plt.show()\n",
    "    \n",
    "density_plot()"
   ]
  },
  {
   "cell_type": "markdown",
   "metadata": {},
   "source": [
    "### Frequency Table"
   ]
  },
  {
   "cell_type": "code",
   "execution_count": 9,
   "metadata": {},
   "outputs": [
    {
     "name": "stdout",
     "output_type": "stream",
     "text": [
      "10\n",
      "Frequency Table\n",
      "   Bin Number  Bin Values Count\n",
      "0           0                10\n",
      "1           1                10\n",
      "2           2                10\n",
      "3           3                10\n",
      "4           4                10\n",
      "5           5                10\n",
      "6           6                10\n",
      "7           7                10\n",
      "8           8                10\n",
      "9           9                10\n"
     ]
    }
   ],
   "source": [
    "def frequency_table(num_range=100,n_bins=10):\n",
    "    # create frequency table \n",
    "    rand_int_list = [random.randint(1,num_range) for i in range(num_range)] #create random vals\n",
    "    rand_int_list = sorted(rand_int_list)\n",
    "    m_list = []\n",
    "    bin_c = 0\n",
    "    n_bin = []\n",
    "    n_bins = int(num_range/n_bins)\n",
    "    print(n_bins)\n",
    "    #assign values to bins\n",
    "    for v_idx,val in enumerate(rand_int_list):\n",
    "        if bin_c < n_bins:\n",
    "            n_bin.append(val)\n",
    "            bin_c+=1\n",
    "        else:\n",
    "            n_bin = []\n",
    "            n_bin.append(val)\n",
    "            bin_c = 1\n",
    "        if len(n_bin) == n_bins:\n",
    "            m_list.append(n_bin)\n",
    "        elif v_idx == len(rand_int_list)-1:\n",
    "            print(n_bin)\n",
    "            prev_bin = m_list[len(m_list)-1]\n",
    "            for excess_val in n_bin:\n",
    "                prev_bin.append(excess_val)\n",
    "            m_list[len(m_list)-1] = prev_bin\n",
    "\n",
    "    #create frequency table\n",
    "    n_bin_list = []\n",
    "    for b_idx,bin in enumerate(m_list):\n",
    "        bin_len = len(bin)\n",
    "        n_bin_list.append([b_idx,bin_len])      \n",
    "    frequency_table = pd.DataFrame(n_bin_list,columns = ['Bin Number','Bin Values Count'])\n",
    "    print('Frequency Table')\n",
    "    print(frequency_table)\n",
    "    \n",
    "frequency_table()"
   ]
  },
  {
   "cell_type": "code",
   "execution_count": null,
   "metadata": {},
   "outputs": [],
   "source": []
  }
 ],
 "metadata": {
  "kernelspec": {
   "display_name": "Python 3",
   "language": "python",
   "name": "python3"
  },
  "language_info": {
   "codemirror_mode": {
    "name": "ipython",
    "version": 3
   },
   "file_extension": ".py",
   "mimetype": "text/x-python",
   "name": "python",
   "nbconvert_exporter": "python",
   "pygments_lexer": "ipython3",
   "version": "3.7.3"
  }
 },
 "nbformat": 4,
 "nbformat_minor": 2
}
