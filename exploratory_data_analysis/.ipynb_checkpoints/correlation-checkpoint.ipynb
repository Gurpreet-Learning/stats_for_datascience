{
 "cells": [
  {
   "cell_type": "markdown",
   "metadata": {},
   "source": [
    "## Chapter 1: Exploratory Data Analysis: Correlations - Page 72\n",
    "Contains Functions:\n",
    "    Correlation Coefficient\n",
    "    Correlation Matrix\n",
    "    Scatterplot"
   ]
  },
  {
   "cell_type": "code",
   "execution_count": 10,
   "metadata": {},
   "outputs": [],
   "source": [
    "#import modules\n",
    "import math\n",
    "import random\n",
    "import statistics\n",
    "import numpy as np\n",
    "import pandas as pd\n",
    "import matplotlib.pyplot as plt"
   ]
  },
  {
   "cell_type": "markdown",
   "metadata": {},
   "source": [
    "### Corelation coefficent\n",
    "     -Gets pearsons r correlation coefficient"
   ]
  },
  {
   "cell_type": "code",
   "execution_count": 11,
   "metadata": {},
   "outputs": [
    {
     "name": "stdout",
     "output_type": "stream",
     "text": [
      "Corelation coefficent:\n"
     ]
    },
    {
     "data": {
      "text/plain": [
       "0.6171429404139629"
      ]
     },
     "execution_count": 11,
     "metadata": {},
     "output_type": "execute_result"
    }
   ],
   "source": [
    "def corelation_coefficent(num_range=10,x_vals = None,y_vals = None):\n",
    "        if x_vals is None and y_vals is None:\n",
    "            #create random vals of x and y if values is none\n",
    "            x_vals = [random.randint(1,num_range) for i in range(num_range)]\n",
    "            y_vals = [random.randint(1,num_range) for i in range(num_range)]\n",
    "\n",
    "        x_mean = statistics.mean(x_vals)\n",
    "        y_mean = statistics.mean(y_vals)\n",
    "\n",
    "        ssm = 0 #summation for val where pval is (xi-xmean)*(yi-ymean)\n",
    "        ssx_squared = 0 #summation of squared x pval\n",
    "        ssy_squared = 0 #summation of squared y pval\n",
    "        for i in range(num_range):\n",
    "            pval = (x_vals[i]-x_mean)*(y_vals[i]-y_mean)\n",
    "            ssm+= pval\n",
    "            ssx_squared += (x_vals[i]-x_mean)**2\n",
    "            ssy_squared += (y_vals[i]-y_mean)**2\n",
    "        \n",
    "        r = ssm/math.sqrt(ssx_squared*ssy_squared)  #correlation coefficient\n",
    "        return r\n",
    "    \n",
    "print ('Corelation coefficent:')\n",
    "corelation_coefficent()"
   ]
  },
  {
   "cell_type": "markdown",
   "metadata": {},
   "source": [
    "### Correlation matrix\n",
    "    - Creates Matrix of correlations on dataset"
   ]
  },
  {
   "cell_type": "code",
   "execution_count": 9,
   "metadata": {},
   "outputs": [
    {
     "name": "stdout",
     "output_type": "stream",
     "text": [
      ">>Data Generated<<\n",
      "    A   B   C   D\n",
      "0   6   4   9   1\n",
      "1   7   3   5   5\n",
      "2   1   8   2   8\n",
      "3   6  10   4   3\n",
      "4   7   8   2   9\n",
      "5   4   4   5   2\n",
      "6  10  10  10  10\n",
      "7   9   5   9   6\n",
      "8   3   5   8   3\n",
      "9   9   1   6   2\n",
      "\n",
      ">>Correlation Matrix<<\n",
      "          A         B         C         D\n",
      "A  1.000000 -0.071391  0.481345  0.183822\n",
      "B -0.071391  1.000000 -0.175638  0.633174\n",
      "C  0.481345 -0.175638  1.000000 -0.166615\n",
      "D  0.183822  0.633174 -0.166615  1.000000\n"
     ]
    }
   ],
   "source": [
    "def correlation_matrix(num_range=10):\n",
    "        labels = ['A','B','C','D'] #labels\n",
    "        data_vals = []\n",
    "\n",
    "        #create data\n",
    "        for i in range(num_range):\n",
    "            data_vals.append([random.randint(1,num_range) for i in range(len(labels))])   #create random val for each rows\n",
    "        df = pd.DataFrame(data_vals,columns=labels) #create dataframe\n",
    "        print('>>Data Generated<<')\n",
    "        print(df)\n",
    "\n",
    "        #create matrix plotting points\n",
    "        m_matrix_plot = []\n",
    "        for label_y in labels:\n",
    "            sub_row = []\n",
    "            for label_x in labels:\n",
    "                plot = label_y+'-'+label_x\n",
    "                sub_row.append(plot)\n",
    "            m_matrix_plot.append(sub_row)\n",
    "        m_matrix_r = []\n",
    "\n",
    "        #create correlation matrix\n",
    "        for row in m_matrix_plot:\n",
    "            r_row=[]\n",
    "            for plot in row:\n",
    "                plot = plot.split('-')\n",
    "                x_col = plot[0]\n",
    "                y_col = plot[1]\n",
    "                x_vals = list(df[x_col])\n",
    "                y_vals = list(df[y_col])\n",
    "                r = corelation_coefficent(x_vals=x_vals,y_vals=y_vals)\n",
    "                r_row.append(r)\n",
    "            m_matrix_r.append(r_row)\n",
    "        correlation_matrix = pd.DataFrame(m_matrix_r,columns=labels,index=labels)\n",
    "        print(\"\\n>>Correlation Matrix<<\")\n",
    "        print(correlation_matrix)\n",
    "        \n",
    "correlation_matrix()"
   ]
  },
  {
   "cell_type": "markdown",
   "metadata": {},
   "source": [
    "### Scatterplot"
   ]
  },
  {
   "cell_type": "code",
   "execution_count": 14,
   "metadata": {},
   "outputs": [
    {
     "data": {
      "image/png": "[encoded data removed]",
      "text/plain": [
       "<Figure size 432x288 with 1 Axes>"
      ]
     },
     "metadata": {
      "needs_background": "light"
     },
     "output_type": "display_data"
    }
   ],
   "source": [
    "def scatterplot(num_range=100):\n",
    "    #create scatterplot using matplotlib\n",
    "    x_vals = np.array([random.randint(1,num_range) for i in range(num_range)])\n",
    "    y_vals = np.array([random.randint(1,num_range) for i in range(num_range)])\n",
    "    colors = np.random.rand(num_range)\n",
    "    plt.scatter(x_vals, y_vals,c=colors)\n",
    "    plt.show()\n",
    "\n",
    "scatterplot()"
   ]
  }
 ],
 "metadata": {
  "kernelspec": {
   "display_name": "Python 3",
   "language": "python",
   "name": "python3"
  },
  "language_info": {
   "codemirror_mode": {
    "name": "ipython",
    "version": 3
   },
   "file_extension": ".py",
   "mimetype": "text/x-python",
   "name": "python",
   "nbconvert_exporter": "python",
   "pygments_lexer": "ipython3",
   "version": "3.7.3"
  }
 },
 "nbformat": 4,
 "nbformat_minor": 2
}
