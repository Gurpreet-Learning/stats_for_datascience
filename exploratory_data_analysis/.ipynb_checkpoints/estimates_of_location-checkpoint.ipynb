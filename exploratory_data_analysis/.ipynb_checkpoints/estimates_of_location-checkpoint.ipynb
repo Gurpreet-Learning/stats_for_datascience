{
 "cells": [
  {
   "cell_type": "markdown",
   "metadata": {},
   "source": [
    "## Chapter 1: Exploratory Data Analysis: Estimates of Location - Page 28\n",
    "    Contains Functions:\n",
    "        Mean\n",
    "        Mediam\n",
    "        Weighted Mean\n",
    "        Weighted Median\n",
    "        Trimmed Mean\n",
    "        #TODO: Weighted Median"
   ]
  },
  {
   "cell_type": "code",
   "execution_count": 5,
   "metadata": {},
   "outputs": [],
   "source": [
    "#import modules\n",
    "import random"
   ]
  },
  {
   "cell_type": "markdown",
   "metadata": {},
   "source": [
    "### Mean\n",
    "    Formula: mean = sum(X)/len(X)\n",
    "            where X is a collection of values"
   ]
  },
  {
   "cell_type": "code",
   "execution_count": 6,
   "metadata": {},
   "outputs": [
    {
     "name": "stdout",
     "output_type": "stream",
     "text": [
      "Mean\n",
      "[2, 6, 5, 0, 9, 10, 7, 1, 0, 5]\n"
     ]
    },
    {
     "data": {
      "text/plain": [
       "4.5"
      ]
     },
     "execution_count": 6,
     "metadata": {},
     "output_type": "execute_result"
    }
   ],
   "source": [
    "def mean(num_range=10):\n",
    "    rand_int_list =[random.randint(0,num_range) for i in range(num_range)]\n",
    "    print(rand_int_list)\n",
    "    sum = 0\n",
    "    for rand_int in rand_int_list:\n",
    "        sum+=rand_int\n",
    "    mean = sum/num_range\n",
    "    return mean\n",
    "print('Mean')\n",
    "mean()"
   ]
  },
  {
   "cell_type": "markdown",
   "metadata": {},
   "source": [
    "### Trimmed Mean\n",
    "    Formula: trimmed mean = sum(X[min+1:len(max-1)])/len(X)-2"
   ]
  },
  {
   "cell_type": "code",
   "execution_count": 7,
   "metadata": {},
   "outputs": [
    {
     "name": "stdout",
     "output_type": "stream",
     "text": [
      "Trimmed Mean\n",
      "[0, 0, 1, 2, 3, 3, 7, 8, 9, 9]\n"
     ]
    },
    {
     "data": {
      "text/plain": [
       "1.2999999999999998"
      ]
     },
     "execution_count": 7,
     "metadata": {},
     "output_type": "execute_result"
    }
   ],
   "source": [
    " def trimmed_mean(num_range=10):\n",
    "    rand_int_list = sorted([random.randint(0,num_range) for i in range(num_range)])\n",
    "    print(rand_int_list)\n",
    "    sum = 0\n",
    "    for i in range(1,num_range-1):\n",
    "        sum+=rand_int_list[i]\n",
    "    trimmed_mean = sum/num_range-2\n",
    "    return trimmed_mean\n",
    "print('Trimmed Mean')\n",
    "trimmed_mean()"
   ]
  },
  {
   "cell_type": "markdown",
   "metadata": {},
   "source": [
    "### Weighted Mean\n",
    "    Formula: weighted mean = sum(X*W)/sum(W)\n",
    "            where X is a collection of values"
   ]
  },
  {
   "cell_type": "code",
   "execution_count": 8,
   "metadata": {},
   "outputs": [
    {
     "name": "stdout",
     "output_type": "stream",
     "text": [
      "Weighted Mean\n",
      "[6, 6, 7, 3, 4, 3, 10, 9, 7, 1]\n",
      "[1, 4, 10, 1, 4, 7, 2, 9, 4, 1]\n"
     ]
    },
    {
     "data": {
      "text/plain": [
       "6.27906976744186"
      ]
     },
     "execution_count": 8,
     "metadata": {},
     "output_type": "execute_result"
    }
   ],
   "source": [
    "def weighted_mean(num_range=10):\n",
    "    '''\n",
    "        Formula: weighted mean = sum(X*W)/sum(W)\n",
    "        where X is a collection of values\n",
    "    '''\n",
    "    rand_int_list =[random.randint(0,num_range) for i in range(num_range)]\n",
    "    weights = [random.randint(0,num_range) for i in range(num_range)]\n",
    "    print(rand_int_list)\n",
    "    print(weights)\n",
    "    sum = 0\n",
    "    for i,rand_int in enumerate(rand_int_list):\n",
    "        sum+=rand_int*weights[i]\n",
    "    w_sum = 0\n",
    "    for weight in weights:\n",
    "        w_sum += weight\n",
    "    w_mean = sum/w_sum\n",
    "    return w_mean\n",
    "\n",
    "print('Weighted Mean')\n",
    "weighted_mean()"
   ]
  },
  {
   "cell_type": "markdown",
   "metadata": {},
   "source": [
    "### Median"
   ]
  },
  {
   "cell_type": "code",
   "execution_count": 10,
   "metadata": {},
   "outputs": [
    {
     "name": "stdout",
     "output_type": "stream",
     "text": [
      "Median\n",
      "[1, 2, 2, 3, 3, 6, 6, 6, 7, 9]\n"
     ]
    },
    {
     "data": {
      "text/plain": [
       "4.5"
      ]
     },
     "execution_count": 10,
     "metadata": {},
     "output_type": "execute_result"
    }
   ],
   "source": [
    "def median(num_range=10):\n",
    "    rand_int_list =sorted([random.randint(0,num_range) for i in range(num_range)])\n",
    "    print(rand_int_list)\n",
    "    if (num_range % 2) == 0:\n",
    "        mid = int(num_range/2)\n",
    "        mid_1 = mid - 1\n",
    "        mid_2 = mid\n",
    "        median = (rand_int_list[mid_1]+rand_int_list[mid_2])/2\n",
    "    else:\n",
    "        mid = int(num_range/2)\n",
    "        median = rand_int_list[mid]\n",
    "    return median\n",
    "print('Median')\n",
    "median()"
   ]
  }
 ],
 "metadata": {
  "kernelspec": {
   "display_name": "Python 3",
   "language": "python",
   "name": "python3"
  },
  "language_info": {
   "codemirror_mode": {
    "name": "ipython",
    "version": 3
   },
   "file_extension": ".py",
   "mimetype": "text/x-python",
   "name": "python",
   "nbconvert_exporter": "python",
   "pygments_lexer": "ipython3",
   "version": "3.7.3"
  }
 },
 "nbformat": 4,
 "nbformat_minor": 2
}
