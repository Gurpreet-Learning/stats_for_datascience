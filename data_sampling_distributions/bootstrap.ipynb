{
 "cells": [
  {
   "cell_type": "markdown",
   "metadata": {},
   "source": [
    "## Chapter 2: Data Sampling and Distributions: Bootstrap- Page 118\n",
    "    Contains Functions:\n",
    "       Bootstap Resampling\n",
    "       Resampling"
   ]
  },
  {
   "cell_type": "code",
   "execution_count": 1,
   "metadata": {},
   "outputs": [],
   "source": [
    "#import modules\n",
    "import math\n",
    "import random\n",
    "import statistics\n",
    "import numpy as np\n",
    "import pandas as pd\n",
    "import matplotlib.pyplot as plt"
   ]
  },
  {
   "cell_type": "markdown",
   "metadata": {},
   "source": [
    "### Bootstrap Resampling\n",
    "    -Summary: get random data points on original data population to create a\n",
    "            bootstrap, repeat N times. then compute central limit theorem of either mean or standard error"
   ]
  },
  {
   "cell_type": "code",
   "execution_count": 2,
   "metadata": {},
   "outputs": [
    {
     "data": {
      "image/png": "[encoded data removed]",
      "text/plain": [
       "<Figure size 432x288 with 1 Axes>"
      ]
     },
     "metadata": {
      "needs_background": "light"
     },
     "output_type": "display_data"
    }
   ],
   "source": [
    " def bootstrap_resampling(num_range=1000,sample_len=10000,sample_size=100):\n",
    "    '''\n",
    "        Summary: get random data points on original data population to create a\n",
    "        bootstrap, repeat N times. then compute central limit theorem of either mean or standard error\n",
    "    '''\n",
    "    main_data = [random.randint(1,num_range) for i in range(num_range)] #create set of random numbers\n",
    "    bootstraps = []\n",
    "    for s_count in range(sample_len):\n",
    "        bootstrap = []\n",
    "        for s_num in range(sample_size):\n",
    "            rand_idx = random.randint(0,num_range-1)\n",
    "            bootstrap.append(main_data[rand_idx])\n",
    "        bootstraps.append(bootstrap)\n",
    "    random.shuffle(bootstraps)\n",
    "    b_mean_list = []\n",
    "    error_distri = []\n",
    "    for bootstrap in bootstraps:\n",
    "        sample_mean = statistics.mean(bootstrap)\n",
    "        b_mean_list.append(sample_mean)\n",
    "        sd = 0\n",
    "        for val in bootstrap:\n",
    "            sd+= (val-sample_mean)**2\n",
    "        sd = math.sqrt(sd)/len(bootstrap)\n",
    "        se = sd/math.sqrt(len(bootstrap))\n",
    "        error_distri.append(se)\n",
    "    error_distri = np.array(error_distri)   #convert to np array \n",
    "    mean_distri = np.array(b_mean_list)\n",
    "    plt.hist(error_distri, bins=int(num_range/10))    #plot values to histogram              \n",
    "    plt.plot()\n",
    "    plt.show()\n",
    "    \n",
    "bootstrap_resampling()"
   ]
  },
  {
   "cell_type": "code",
   "execution_count": null,
   "metadata": {},
   "outputs": [],
   "source": []
  }
 ],
 "metadata": {
  "kernelspec": {
   "display_name": "Python 3",
   "language": "python",
   "name": "python3"
  },
  "language_info": {
   "codemirror_mode": {
    "name": "ipython",
    "version": 3
   },
   "file_extension": ".py",
   "mimetype": "text/x-python",
   "name": "python",
   "nbconvert_exporter": "python",
   "pygments_lexer": "ipython3",
   "version": "3.7.3"
  }
 },
 "nbformat": 4,
 "nbformat_minor": 2
}
