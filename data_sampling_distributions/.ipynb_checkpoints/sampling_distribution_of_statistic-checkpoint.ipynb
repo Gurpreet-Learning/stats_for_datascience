{
 "cells": [
  {
   "cell_type": "markdown",
   "metadata": {},
   "source": [
    "## Chapter 2: Data Sampling and Distributions: Sampling Distributions of a statistic - Page 110\n",
    "    Contains Functions:\n",
    "        Sample statistic\n",
    "        Central Limit Theorem\n",
    "        Standard Error"
   ]
  },
  {
   "cell_type": "code",
   "execution_count": 1,
   "metadata": {},
   "outputs": [],
   "source": [
    "# import modules\n",
    "import math\n",
    "import random\n",
    "import statistics\n",
    "import numpy as np\n",
    "import pandas as pd\n",
    "import matplotlib.pyplot as plt"
   ]
  },
  {
   "cell_type": "markdown",
   "metadata": {},
   "source": [
    "### Sample statistic\n",
    "    -Get samples from main data collection using different mean criteria"
   ]
  },
  {
   "cell_type": "code",
   "execution_count": 2,
   "metadata": {},
   "outputs": [
    {
     "name": "stdout",
     "output_type": "stream",
     "text": [
      "Mean Critera: 34\n"
     ]
    },
    {
     "data": {
      "image/png": "[encoded data removed]",
      "text/plain": [
       "<Figure size 432x288 with 1 Axes>"
      ]
     },
     "metadata": {
      "needs_background": "light"
     },
     "output_type": "display_data"
    }
   ],
   "source": [
    "def sample_statistic(num_range=100):\n",
    "    '''\n",
    "        Get samples from main data collection using different mean criteria\n",
    "    '''\n",
    "    #Loop until mean criteria can get sub sample data\n",
    "    while True:\n",
    "        main_data = [random.randint(1,num_range) for i in range(num_range)] #create set of random numbers\n",
    "        mean_criteria = random.randint(len(main_data)/4,num_range)    #random mean criteria\n",
    "        sub_sample = []\n",
    "        for data in main_data:\n",
    "            sub_sample.append(data)\n",
    "            if int(statistics.mean(sub_sample)) == mean_criteria:\n",
    "                break\n",
    "        #break main while loop if sub sample has data values\n",
    "        if len(sub_sample) != len(main_data):\n",
    "            print(f'Mean Critera: {mean_criteria}')       \n",
    "            sample = np.array(sub_sample)   #convert to np array\n",
    "            plt.hist(sample, bins=int(num_range/10))    #plot values to histogram\n",
    "            break\n",
    "\n",
    "    plt.show()  #show plot\n",
    "    \n",
    "sample_statistic()"
   ]
  },
  {
   "cell_type": "markdown",
   "metadata": {},
   "source": [
    "### Central Limit Theorem\n",
    "    - Concept: Show the behavior of distribution of the mean of multiple samples then plot a histogram. This theorem shows that most of that the distribution of means will always be limited mostly to the center value\n"
   ]
  },
  {
   "cell_type": "code",
   "execution_count": 4,
   "metadata": {},
   "outputs": [
    {
     "data": {
      "image/png": "[encoded data removed]",
      "text/plain": [
       "<Figure size 432x288 with 1 Axes>"
      ]
     },
     "metadata": {
      "needs_background": "light"
     },
     "output_type": "display_data"
    }
   ],
   "source": [
    "def central_limit_theorem(num_range=1000,sample_size=100):\n",
    "\n",
    "    main_data = [random.randint(1,num_range) for i in range(num_range)] #create set of random numbers\n",
    "    sample_counts = 1000\n",
    "\n",
    "    mean_distri = []\n",
    "\n",
    "    #main loop for create samples\n",
    "    for s in range(sample_counts):\n",
    "        sample = []\n",
    "        s_indices = []\n",
    "        s_count = 0\n",
    "        # create index list of sub samples that is non reapeating\n",
    "        while True:\n",
    "            if s_count < sample_size:\n",
    "                rand_val = random.randint(0,num_range-1)\n",
    "                if rand_val not in s_indices:\n",
    "                    s_indices.append(rand_val)\n",
    "                    s_count +=1\n",
    "            else:\n",
    "                break\n",
    "        # append values to sample using generated index list\n",
    "        for idx in s_indices:\n",
    "            sample.append(main_data[idx])\n",
    "\n",
    "        mean_distri.append(statistics.mean(sample)) #append mean of the sample\n",
    "\n",
    "    mean_distri = np.array(mean_distri)   #convert to np array\n",
    "    plt.hist(mean_distri, bins=int(num_range/10))    #plot values to histogram              \n",
    "    plt.plot()\n",
    "    plt.show()\n",
    "\n",
    "central_limit_theorem()"
   ]
  },
  {
   "cell_type": "markdown",
   "metadata": {},
   "source": [
    "### Standard Error\n",
    "    -Same as central limit theorem but we are plotting the distribution of Standard Error of the Samples. Observations are large samples create smaller standard errors"
   ]
  },
  {
   "cell_type": "code",
   "execution_count": 5,
   "metadata": {},
   "outputs": [
    {
     "data": {
      "image/png": "[encoded data removed]",
      "text/plain": [
       "<Figure size 432x288 with 1 Axes>"
      ]
     },
     "metadata": {
      "needs_background": "light"
     },
     "output_type": "display_data"
    }
   ],
   "source": [
    "def standard_error(num_range=1000,sample_size=500):\n",
    "\n",
    "    main_data = [random.randint(1,num_range) for i in range(num_range)] #create set of random numbers\n",
    "    sample_counts = 1000\n",
    "\n",
    "    error_distri = []\n",
    "\n",
    "    #main loop for create samples\n",
    "    for s in range(sample_counts):\n",
    "        sample = []\n",
    "        s_indices = []\n",
    "        s_count = 0\n",
    "        # create index list of sub samples that is non reapeating\n",
    "        while True:\n",
    "            if s_count < sample_size:\n",
    "                rand_val = random.randint(0,num_range-1)\n",
    "                if rand_val not in s_indices:\n",
    "                    s_indices.append(rand_val)\n",
    "                    s_count +=1\n",
    "            else:\n",
    "                break\n",
    "        # append values to sample using generated index list\n",
    "        for idx in s_indices:\n",
    "            sample.append(main_data[idx])\n",
    "        sample_mean = statistics.mean(sample)\n",
    "        sd = 0\n",
    "        for val in sample:\n",
    "            sd+= (val-sample_mean)**2\n",
    "        sd = math.sqrt(sd)/len(sample)\n",
    "        se = sd/math.sqrt(len(sample))\n",
    "        error_distri.append(se)\n",
    "\n",
    "    error_distri = np.array(error_distri)   #convert to np array\n",
    "\n",
    "    plt.hist(error_distri, bins=int(num_range/10))    #plot values to histogram              \n",
    "    plt.plot()\n",
    "    plt.show()\n",
    "    \n",
    "standard_error()"
   ]
  }
 ],
 "metadata": {
  "kernelspec": {
   "display_name": "Python 3",
   "language": "python",
   "name": "python3"
  },
  "language_info": {
   "codemirror_mode": {
    "name": "ipython",
    "version": 3
   },
   "file_extension": ".py",
   "mimetype": "text/x-python",
   "name": "python",
   "nbconvert_exporter": "python",
   "pygments_lexer": "ipython3",
   "version": "3.7.3"
  }
 },
 "nbformat": 4,
 "nbformat_minor": 2
}
