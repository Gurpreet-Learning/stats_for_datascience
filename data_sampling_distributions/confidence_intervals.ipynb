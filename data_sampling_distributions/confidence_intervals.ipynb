{
 "cells": [
  {
   "cell_type": "markdown",
   "metadata": {},
   "source": [
    "## Chapter 2: Data Sampling and Distributions: Confidence Intervals- Page 124\n",
    "    Contains Functions:\n",
    "       Confidence level"
   ]
  },
  {
   "cell_type": "code",
   "execution_count": 1,
   "metadata": {},
   "outputs": [],
   "source": [
    "# import modules\n",
    "import math\n",
    "import random\n",
    "import statistics\n",
    "import numpy as np\n",
    "import pandas as pd\n",
    "import matplotlib.pyplot as plt"
   ]
  },
  {
   "cell_type": "markdown",
   "metadata": {},
   "source": [
    "### Confidence Level\n",
    "    -Sumarry: Create bootstrap samples then trim sample using confidence interval.\n",
    "            Then see comparison of standard error\n",
    "            For normally distributed data. The higher the confidence interval the lower the error is"
   ]
  },
  {
   "cell_type": "code",
   "execution_count": 3,
   "metadata": {},
   "outputs": [
    {
     "data": {
      "text/plain": [
       "[1.031134739597972e-05,\n",
       " 1.0098918272248351e-05,\n",
       " 9.922346225815105e-06,\n",
       " 1.0437094045917323e-05,\n",
       " 9.937828025059717e-06,\n",
       " 1.0345070704799898e-05,\n",
       " 9.734051629407715e-06,\n",
       " 1.0588227805890931e-05,\n",
       " 1.0754344260178338e-05,\n",
       " 1.046686768675677e-05]"
      ]
     },
     "execution_count": 3,
     "metadata": {},
     "output_type": "execute_result"
    }
   ],
   "source": [
    "def conf_interval(num_range=1000,sample_len=10,sample_size=500):\n",
    "    '''\n",
    "        Sumarry: Create bootstrap samples then trim sample using confidence interval.\n",
    "        Then see comparison of standard error\n",
    "        For normally distributed data. The higher the confidence interval the lower the error is\n",
    "    '''\n",
    "\n",
    "    main_data = list(np.random.normal(1.0, 0.005, num_range)) #create set of random numbers with normal distribution\n",
    "    bootstraps = []\n",
    "    conf = 0.95 # confidence interval can be change\n",
    "    #create bootstrap data\n",
    "    for s_count in range(sample_len):\n",
    "        bootstrap = []\n",
    "        for s_num in range(sample_size):\n",
    "            rand_idx = random.randint(0,num_range-1)\n",
    "            bootstrap.append(main_data[rand_idx])\n",
    "        x_point = (1-conf)/2\n",
    "        x_point_index = int(x_point*sample_size) #get index of x point\n",
    "        bootstrap = bootstrap[x_point_index:sample_size-x_point_index]   #trim to conf interval\n",
    "        bootstraps.append(bootstrap)\n",
    "\n",
    "    #compute standard errors\n",
    "    error_distri = []\n",
    "    for bootstrap in bootstraps:\n",
    "        sample_mean = statistics.mean(bootstrap)\n",
    "        sd = 0\n",
    "        for val in bootstrap:\n",
    "            sd+= (val-sample_mean)**2\n",
    "        sd = math.sqrt(sd)/len(bootstrap)\n",
    "        se = sd/math.sqrt(len(bootstrap))\n",
    "        error_distri.append(se)\n",
    "\n",
    "    return error_distri\n",
    "\n",
    "conf_interval()"
   ]
  },
  {
   "cell_type": "code",
   "execution_count": null,
   "metadata": {},
   "outputs": [],
   "source": []
  }
 ],
 "metadata": {
  "kernelspec": {
   "display_name": "Python 3",
   "language": "python",
   "name": "python3"
  },
  "language_info": {
   "codemirror_mode": {
    "name": "ipython",
    "version": 3
   },
   "file_extension": ".py",
   "mimetype": "text/x-python",
   "name": "python",
   "nbconvert_exporter": "python",
   "pygments_lexer": "ipython3",
   "version": "3.7.3"
  }
 },
 "nbformat": 4,
 "nbformat_minor": 2
}
